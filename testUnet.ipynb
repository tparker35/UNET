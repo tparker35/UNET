{
 "cells": [
  {
   "cell_type": "code",
   "execution_count": null,
   "metadata": {},
   "outputs": [],
   "source": [
    "from PIL import Image\n",
    "import numpy as np\n",
    "from skimage import transform"
   ]
  },
  {
   "cell_type": "code",
   "execution_count": 3,
   "metadata": {},
   "outputs": [],
   "source": [
    "def getMask(pic,saveName = None):\n",
    "    np_image = Image.open(pic)\n",
    "    np_image = np.array(np_image).astype('float32')/255\n",
    "    np_image = transform.resize(np_image,(256,256,1))\n",
    "    np_image = np.expand_dims(np_image, axis=0)\n",
    "\n",
    "    maskArr = model.predict(np_image)\n",
    "    maskArr = maskArr.reshape(256,256)\n",
    "\n",
    "\n",
    "    #np.save(saveName,maskArr)\n",
    "    \n",
    "    maskArrThresh = np.zeros((maskArr.shape[0], maskArr.shape[1], 4))\n",
    "    for row in range(0, maskArr.shape[0]):\n",
    "        for col in range(0, maskArr.shape[1]):\n",
    "            #if maskarr[row, col] < 0.: \n",
    "            maskArrThresh[row, col, 0] = 255 \n",
    "            maskArrThresh[row, col, 1] = 50 \n",
    "            maskArrThresh[row, col, 2] = 0 \n",
    "            maskArrThresh[row, col, 3] = int(maskArr[row, col] * 255)\n",
    "            #else: #maskArrThresh[row, col, 0:3] = 255 # maskArrThresh[row, col, 3] = 0\n",
    "\n",
    "    maskArrThresh = maskArrThresh.astype(\"uint8\")\n",
    "    maskImg = Image.fromarray(maskArrThresh, 'RGBA')\n",
    "    return maskImg\n"
   ]
  },
  {
   "cell_type": "code",
   "execution_count": 4,
   "metadata": {},
   "outputs": [],
   "source": [
    "def displayPrediction(maskImg,pic):\n",
    "    PANImg = Image.open(pic)\n",
    "    PANImgT = PANImg.convert('RGBA')\n",
    "\n",
    "    PANDim = (PANImgT.width, PANImgT.height) \n",
    "    maskImgResize = maskImg.resize(PANDim)\n",
    "\n",
    "    comp = Image.alpha_composite(PANImgT,maskImgResize)\n",
    "    return comp"
   ]
  },
  {
   "cell_type": "code",
   "execution_count": null,
   "metadata": {},
   "outputs": [],
   "source": []
  }
 ],
 "metadata": {
  "kernelspec": {
   "display_name": "Python 3",
   "language": "python",
   "name": "python3"
  },
  "language_info": {
   "codemirror_mode": {
    "name": "ipython",
    "version": 3
   },
   "file_extension": ".py",
   "mimetype": "text/x-python",
   "name": "python",
   "nbconvert_exporter": "python",
   "pygments_lexer": "ipython3",
   "version": "3.7.3"
  }
 },
 "nbformat": 4,
 "nbformat_minor": 4
}
